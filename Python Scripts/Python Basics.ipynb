{
 "cells": [
  {
   "cell_type": "markdown",
   "id": "1793f6c0",
   "metadata": {},
   "source": [
    "# Introduction\n",
    "\n",
    "Python is an interpreted, object-oriented, high-level programming language with dynamic semantics. Its high-level built in data structures, combined with dynamic typing and dynamic binding, make it very attractive for Rapid Application Development, as well as for use as a scripting or glue language to connect existing components together. Python's simple, easy to learn syntax emphasizes readability and therefore reduces the cost of program maintenance. Python supports modules and packages, which encourages program modularity and code reuse. The Python interpreter and the extensive standard library are available in source or binary form without charge for all major platforms, and can be freely distributed.\n"
   ]
  },
  {
   "cell_type": "markdown",
   "id": "b807a0d1",
   "metadata": {},
   "source": [
    "# Basics of Python"
   ]
  },
  {
   "cell_type": "markdown",
   "id": "90037f35",
   "metadata": {},
   "source": [
    "Python is a high-level, dynamically typed multiparadigm programming language. Python code is often said to be almost like pseudocode, since it allows you to express very powerful ideas in very few lines of code while being very readable. As an example, here is an implementation of the classic quicksort algorithm in Python:"
   ]
  },
  {
   "cell_type": "markdown",
   "id": "b84fde2a",
   "metadata": {},
   "source": [
    "# Fundamental types"
   ]
  },
  {
   "cell_type": "markdown",
   "id": "105d0208",
   "metadata": {},
   "source": [
    "### Integers\n"
   ]
  },
  {
   "cell_type": "markdown",
   "id": "1b995c2c",
   "metadata": {},
   "source": [
    "Integer literals are created by any number without a decimal or complex component."
   ]
  },
  {
   "cell_type": "code",
   "execution_count": 7,
   "id": "d4c9163f",
   "metadata": {},
   "outputs": [
    {
     "name": "stdout",
     "output_type": "stream",
     "text": [
      "fggdgsgd7\n"
     ]
    }
   ],
   "source": [
    "# integers\n",
    "a = 7\n",
    "print(\"fggdgsgd\" + str(a))"
   ]
  },
  {
   "cell_type": "markdown",
   "id": "5ed7dcb7",
   "metadata": {},
   "source": [
    "### Floats\n"
   ]
  },
  {
   "cell_type": "markdown",
   "id": "7c44fca9",
   "metadata": {},
   "source": [
    "Float literals can be created by adding a decimal component to a number."
   ]
  },
  {
   "cell_type": "code",
   "execution_count": 8,
   "id": "71690f28",
   "metadata": {},
   "outputs": [
    {
     "data": {
      "text/plain": [
       "int"
      ]
     },
     "execution_count": 8,
     "metadata": {},
     "output_type": "execute_result"
    }
   ],
   "source": [
    "# float\n",
    "x = 1\n",
    "type(x)"
   ]
  },
  {
   "cell_type": "markdown",
   "id": "9646797d",
   "metadata": {},
   "source": [
    "### Boolean\n"
   ]
  },
  {
   "cell_type": "markdown",
   "id": "e51df0b0",
   "metadata": {},
   "source": [
    "Boolean can be defined by typing True/False without quotes"
   ]
  },
  {
   "cell_type": "code",
   "execution_count": 10,
   "id": "320e01f1",
   "metadata": {},
   "outputs": [
    {
     "data": {
      "text/plain": [
       "bool"
      ]
     },
     "execution_count": 10,
     "metadata": {},
     "output_type": "execute_result"
    }
   ],
   "source": [
    "# boolean\n",
    "b1 = True\n",
    "b2 = False\n",
    "\n",
    "type(b1)"
   ]
  },
  {
   "cell_type": "markdown",
   "id": "08383d22",
   "metadata": {},
   "source": [
    "### Strings\n"
   ]
  },
  {
   "cell_type": "markdown",
   "id": "55b4a333",
   "metadata": {},
   "source": [
    "String literals can be defined with any of single quotes ('), double quotes (\") or triple quotes (''' or \"\"\"). All give the same result with two important differences.\n",
    "\n",
    "If you quote with single quotes, you do not have to escape double quotes and vice-versa.\n",
    "If you quote with triple quotes, your string can span multiple lines."
   ]
  },
  {
   "cell_type": "code",
   "execution_count": 13,
   "id": "fd003312",
   "metadata": {},
   "outputs": [
    {
     "data": {
      "text/plain": [
       "'your name karthik'"
      ]
     },
     "execution_count": 13,
     "metadata": {},
     "output_type": "execute_result"
    }
   ],
   "source": [
    "# string\n",
    "name1 = 'your name karthik'\n",
    "type(name1)\n",
    "name1"
   ]
  },
  {
   "cell_type": "markdown",
   "id": "f90fd4ff",
   "metadata": {},
   "source": [
    "### Complex\n"
   ]
  },
  {
   "cell_type": "markdown",
   "id": "e478c7d7",
   "metadata": {},
   "source": [
    "Complex literals can be created by using the notation x + yj where x is the real component and y is the imaginary component."
   ]
  },
  {
   "cell_type": "code",
   "execution_count": 14,
   "id": "b4eee7f3",
   "metadata": {},
   "outputs": [
    {
     "data": {
      "text/plain": [
       "(1-2j)"
      ]
     },
     "execution_count": 14,
     "metadata": {},
     "output_type": "execute_result"
    }
   ],
   "source": [
    "#complex numbers: note the use of `j` to specify the imaginary part\n",
    "\n",
    "\n",
    "j = 1.0 - 2.0j\n",
    "\n",
    "j"
   ]
  },
  {
   "cell_type": "code",
   "execution_count": 15,
   "id": "851ecea5",
   "metadata": {},
   "outputs": [
    {
     "name": "stdout",
     "output_type": "stream",
     "text": [
      "1 0\n"
     ]
    }
   ],
   "source": [
    "print(x.real, x.imag)"
   ]
  },
  {
   "cell_type": "markdown",
   "id": "1998ebf2",
   "metadata": {},
   "source": [
    "### Variables\n"
   ]
  },
  {
   "cell_type": "markdown",
   "id": "9e0709dd",
   "metadata": {},
   "source": [
    "#### Definining\n",
    "\n",
    "A variable in Python is defined through assignment. There is no concept of declaring a variable outside of that assignment.\n",
    "\n",
    "#### Dynamic Typing\n",
    "\n",
    "In Python, while the value that a variable points to has a type, the variable itself has no strict type in its definition. You can re-use the same variable to point to an object of a different type. It may be helpful to think of variables as \"labels\" associated with objects.\n",
    "\n",
    "### Strong Typing\n",
    "While Python allows you to be very flexible with your types, you must still be aware of what those types are. Certain operations will require certain types as arguments."
   ]
  },
  {
   "cell_type": "code",
   "execution_count": 16,
   "id": "e5fd46dd",
   "metadata": {},
   "outputs": [
    {
     "data": {
      "text/plain": [
       "'Day 1'"
      ]
     },
     "execution_count": 16,
     "metadata": {},
     "output_type": "execute_result"
    }
   ],
   "source": [
    "'Day ' +str(1)"
   ]
  },
  {
   "cell_type": "code",
   "execution_count": null,
   "id": "5fb81d1f",
   "metadata": {},
   "outputs": [],
   "source": []
  },
  {
   "cell_type": "markdown",
   "id": "4fe568bc",
   "metadata": {},
   "source": [
    "## Data type"
   ]
  },
  {
   "cell_type": "code",
   "execution_count": 10,
   "id": "0e3f4a07",
   "metadata": {},
   "outputs": [
    {
     "data": {
      "text/plain": [
       "complex"
      ]
     },
     "execution_count": 10,
     "metadata": {},
     "output_type": "execute_result"
    }
   ],
   "source": [
    "# How to check the data type\n",
    "\n",
    "a = 10 + 4j\n",
    "type(a)"
   ]
  },
  {
   "cell_type": "code",
   "execution_count": 16,
   "id": "863cc1f1",
   "metadata": {},
   "outputs": [],
   "source": [
    "b = True"
   ]
  },
  {
   "cell_type": "code",
   "execution_count": 17,
   "id": "7ffbb462",
   "metadata": {},
   "outputs": [
    {
     "data": {
      "text/plain": [
       "bool"
      ]
     },
     "execution_count": 17,
     "metadata": {},
     "output_type": "execute_result"
    }
   ],
   "source": [
    "type(b)"
   ]
  },
  {
   "cell_type": "code",
   "execution_count": 22,
   "id": "2719aec4",
   "metadata": {},
   "outputs": [],
   "source": [
    "kar = \"That's my name\"\n",
    "s = \"ineuron\""
   ]
  },
  {
   "cell_type": "code",
   "execution_count": 21,
   "id": "517c82c9",
   "metadata": {},
   "outputs": [
    {
     "data": {
      "text/plain": [
       "str"
      ]
     },
     "execution_count": 21,
     "metadata": {},
     "output_type": "execute_result"
    }
   ],
   "source": [
    "type(kar)"
   ]
  },
  {
   "cell_type": "markdown",
   "id": "523a1950",
   "metadata": {},
   "source": [
    "# Indexing"
   ]
  },
  {
   "cell_type": "code",
   "execution_count": 27,
   "id": "8ce90bf4",
   "metadata": {},
   "outputs": [
    {
     "data": {
      "text/plain": [
       "'o'"
      ]
     },
     "execution_count": 27,
     "metadata": {},
     "output_type": "execute_result"
    }
   ],
   "source": [
    "s[-2]"
   ]
  },
  {
   "cell_type": "code",
   "execution_count": 31,
   "id": "015d2653",
   "metadata": {},
   "outputs": [
    {
     "data": {
      "text/plain": [
       "'norueni'"
      ]
     },
     "execution_count": 31,
     "metadata": {},
     "output_type": "execute_result"
    }
   ],
   "source": [
    "# String slicing Operation\n",
    "\n",
    "s[0:5]  # starting and end point method always ignores upper bound\n",
    "\n",
    "s[0:5:3] # Step or Jump method\n",
    "\n",
    "s[::-1] # reversing a string"
   ]
  },
  {
   "cell_type": "markdown",
   "id": "2d7f1850",
   "metadata": {},
   "source": [
    " ## Advanced Types: Containers\n",
    "\n",
    "One of the great advantages of Python as a programming language is the ease with which it allows you to manipulate containers. Containers (or collections) are an integral part of the language and, as you’ll see, built in to the core of the language’s syntax. As a result, thinking in a Pythonic manner means thinking about containers.\n",
    "\n",
    "### Lists\n",
    "\n",
    "The first container type that we will look at is the list. A list represents an ordered, mutable collection of objects. You can mix and match any type of object in a list, add to it and remove from it at will.\n",
    "\n",
    "Creating Empty Lists. To create an empty list, you can use empty square brackets or use the list() function with no arguments.\n",
    "\n",
    "### Initializing Lists.\n",
    "\n",
    "You can initialize a list with content of any sort using the same square bracket notation. The list() function also takes an iterable as a single argument and returns a shallow copy of that iterable as a new list. A list is one such iterable as we’ll see soon, and we’ll see others later.\n",
    "\n",
    "A Python string is also a sequence of characters and can be treated as an iterable over those characters. Combined with the list() function, a new list of the characters can easily be generated\n"
   ]
  },
  {
   "cell_type": "code",
   "execution_count": 38,
   "id": "2afbc395",
   "metadata": {},
   "outputs": [
    {
     "data": {
      "text/plain": [
       "'kar'"
      ]
     },
     "execution_count": 38,
     "metadata": {},
     "output_type": "execute_result"
    }
   ],
   "source": [
    "c = [1,\"kar\",89.90, \"std\"]\n",
    "c[-3]"
   ]
  },
  {
   "cell_type": "code",
   "execution_count": 34,
   "id": "c60e6f69",
   "metadata": {},
   "outputs": [
    {
     "data": {
      "text/plain": [
       "list"
      ]
     },
     "execution_count": 34,
     "metadata": {},
     "output_type": "execute_result"
    }
   ],
   "source": [
    "s = list()\n",
    "type(s)"
   ]
  },
  {
   "cell_type": "markdown",
   "id": "e5e1fe20",
   "metadata": {},
   "source": [
    "Iterating. Iterating over a list is very simple. All iterables in Python allow access to elements using the for ... in statement. In this structure, each element in the iterable is sequentially assigned to the \"loop variable\" for a single pass of the loop, during which the enclosed block is executed."
   ]
  },
  {
   "cell_type": "code",
   "execution_count": 42,
   "id": "059860ce",
   "metadata": {},
   "outputs": [
    {
     "name": "stdout",
     "output_type": "stream",
     "text": [
      "[5, 6, 7, 8, 9, 25, 7, 7]\n"
     ]
    }
   ],
   "source": [
    "l = [3,4,5,6,7,23,5,5]  \n",
    "m = [] # empty list\n",
    "for i in l:   # using for loop by extracting the dataset\n",
    "    m.append(i+2) \n",
    "print(m)\n"
   ]
  },
  {
   "cell_type": "markdown",
   "id": "7ed75c36",
   "metadata": {},
   "source": [
    "## Loops\n",
    "\n",
    "In general, statements are executed sequentially: The first statement in a function is executed first, followed by the second, and so on. There may be a situation when you need to execute a block of code several number of times.\n",
    "\n",
    "Programming languages provide various control structures that allow for more complicated execution paths.\n",
    "\n",
    "### For loop\n",
    "\n",
    "The for loop in Python is used to iterate over a sequence (list, tuple, string) or other iterable objects. Iterating over a sequence is called traversal.\n",
    "\n",
    "Loop continues until we reach the last item in the sequence. The body of for loop is separated from the rest of the code using indentation."
   ]
  },
  {
   "cell_type": "code",
   "execution_count": null,
   "id": "dd856d0d",
   "metadata": {},
   "outputs": [],
   "source": []
  },
  {
   "cell_type": "markdown",
   "id": "1ad709f9",
   "metadata": {},
   "source": [
    "## The range() function\n",
    "We can generate a sequence of numbers using range() function. range(10) will generate numbers from 0 to 9 (10 numbers).\n",
    "\n",
    "We can also define the start, stop and step size as range(start,stop,step size). step size defaults to 1 if not provided.\n",
    "\n",
    "This function does not store all the values in memory, it would be inefficient. So it remembers the start, stop, step size and generates the next number on the go.\n",
    "\n",
    "To force this function to output all the items, we can use the function list().\n",
    "\n",
    "The following example will clarify this."
   ]
  },
  {
   "cell_type": "code",
   "execution_count": 2,
   "id": "e54c1798",
   "metadata": {},
   "outputs": [
    {
     "data": {
      "text/plain": [
       "range(3, 10)"
      ]
     },
     "execution_count": 2,
     "metadata": {},
     "output_type": "execute_result"
    }
   ],
   "source": [
    "range(3,10) # acts like a generator"
   ]
  },
  {
   "cell_type": "code",
   "execution_count": 3,
   "id": "f5f2be80",
   "metadata": {},
   "outputs": [
    {
     "data": {
      "text/plain": [
       "45"
      ]
     },
     "execution_count": 3,
     "metadata": {},
     "output_type": "execute_result"
    }
   ],
   "source": [
    "len(range(5,50))"
   ]
  },
  {
   "cell_type": "code",
   "execution_count": 6,
   "id": "16332d1d",
   "metadata": {},
   "outputs": [
    {
     "data": {
      "text/plain": [
       "[2, 3, 4, 5, 6, 7, 8, 9]"
      ]
     },
     "execution_count": 6,
     "metadata": {},
     "output_type": "execute_result"
    }
   ],
   "source": [
    "list(range(2,10)) # generates a range of list elements"
   ]
  },
  {
   "cell_type": "code",
   "execution_count": 59,
   "id": "5e64df04",
   "metadata": {},
   "outputs": [],
   "source": [
    "l = [3,4,5,6,7,23,5,5]  \n",
    "m = [] \n",
    "for i in range(len(l)): \n",
    "       m.append(l[i]+2) \n"
   ]
  },
  {
   "cell_type": "code",
   "execution_count": 60,
   "id": "012374bd",
   "metadata": {},
   "outputs": [
    {
     "data": {
      "text/plain": [
       "[5, 6, 7, 8, 9, 25, 7, 7]"
      ]
     },
     "execution_count": 60,
     "metadata": {},
     "output_type": "execute_result"
    }
   ],
   "source": [
    "m"
   ]
  },
  {
   "cell_type": "code",
   "execution_count": 63,
   "id": "d05c8184",
   "metadata": {},
   "outputs": [],
   "source": [
    "l = [3,4,5,6,7,23,5,5]  \n",
    "m = [] \n",
    "for i in l: \n",
    "    if i >= 10 :\n",
    "       m.append(i+2) "
   ]
  },
  {
   "cell_type": "code",
   "execution_count": 64,
   "id": "05254a47",
   "metadata": {},
   "outputs": [
    {
     "data": {
      "text/plain": [
       "[25]"
      ]
     },
     "execution_count": 64,
     "metadata": {},
     "output_type": "execute_result"
    }
   ],
   "source": [
    "m"
   ]
  },
  {
   "cell_type": "markdown",
   "id": "32c0c0f9",
   "metadata": {},
   "source": [
    "## Branching (if / elif / else)\n",
    "\n",
    "Python provides the if statement to allow branching based on conditions. Multiple elif checks can also be performed followed by an optional else clause. The if statement can be used with any evaluation of truthiness."
   ]
  },
  {
   "cell_type": "code",
   "execution_count": 68,
   "id": "13c449f8",
   "metadata": {},
   "outputs": [
    {
     "name": "stdout",
     "output_type": "stream",
     "text": [
      "False\n"
     ]
    }
   ],
   "source": [
    "s = 10 \n",
    "if s > 10 :\n",
    "    print (\"True\")\n",
    "elif s < 50:\n",
    "    print(\"False\")\n",
    "else:\n",
    "    print(\"Equal\")"
   ]
  },
  {
   "cell_type": "code",
   "execution_count": 70,
   "id": "b4c5ed56",
   "metadata": {},
   "outputs": [],
   "source": [
    "# If data type is string add to new list m\n",
    "\n",
    "l = [3,4,5,6,7,23,5,5, 'Karthik','Prabhakar']  \n",
    "m = [] \n",
    "for i in l: \n",
    "    if type(i) == str:\n",
    "       m.append(i) "
   ]
  },
  {
   "cell_type": "code",
   "execution_count": 71,
   "id": "6c0e9e93",
   "metadata": {},
   "outputs": [
    {
     "data": {
      "text/plain": [
       "['Karthik', 'Prabhakar']"
      ]
     },
     "execution_count": 71,
     "metadata": {},
     "output_type": "execute_result"
    }
   ],
   "source": [
    "m"
   ]
  },
  {
   "cell_type": "markdown",
   "id": "4c449c52",
   "metadata": {},
   "source": [
    "### for loop with else\n",
    "A for loop can have an optional else block as well. The else part is executed if the items in the sequence used in for loop exhausts.\n",
    "\n",
    "break statement can be used to stop a for loop. In such case, the else part is ignored.\n",
    "\n",
    "Hence, a for loop's else part runs if no break occurs.\n",
    "\n",
    "Here is an example to illustrate this."
   ]
  },
  {
   "cell_type": "code",
   "execution_count": 73,
   "id": "3e98a399",
   "metadata": {},
   "outputs": [
    {
     "name": "stdout",
     "output_type": "stream",
     "text": [
      "2\n",
      "5\n",
      "6\n",
      "34\n",
      "65\n",
      "6\n",
      "Nothing\n"
     ]
    }
   ],
   "source": [
    "# A for else statement\n",
    "\n",
    "l = [2,5,6,34,65,6]\n",
    "for i in l:\n",
    "    print(i)\n",
    "else : \n",
    "    print('Nothing')"
   ]
  },
  {
   "cell_type": "markdown",
   "id": "2f459955",
   "metadata": {},
   "source": [
    "## While loop\n",
    "\n",
    "The while loop in Python is used to iterate over a block of code as long as the test expression (condition) is true.\n",
    "\n",
    "We generally use this loop when we don't know beforehand, the number of times to iterate.\n",
    "\n",
    "In while loop, test expression is checked first. The body of the loop is entered only if the test_expression evaluates to True. After one iteration, the test expression is checked again. This process continues until the test_expression evaluates to False.\n",
    "\n",
    "In Python, the body of the while loop is determined through indentation.\n",
    "\n",
    "Body starts with indentation and the first unindented line marks the end.\n",
    "\n",
    "Python interprets any non-zero value as True. None and 0 are interpreted as False.\n"
   ]
  },
  {
   "cell_type": "code",
   "execution_count": 76,
   "id": "1ba97cf4",
   "metadata": {},
   "outputs": [
    {
     "name": "stdout",
     "output_type": "stream",
     "text": [
      "1 2\n",
      "3 3\n",
      "6 4\n",
      "10 5\n",
      "15 6\n",
      "21 7\n",
      "28 8\n",
      "36 9\n",
      "45 10\n",
      "55 11\n",
      "55\n"
     ]
    }
   ],
   "source": [
    "# WHILE statement\n",
    "\n",
    "d = 10\n",
    "s = 0\n",
    "i = 1\n",
    "\n",
    "while i<= d:\n",
    "    s = s + i\n",
    "    i = i + 1\n",
    "    print(s , i)\n",
    "print(s)"
   ]
  },
  {
   "cell_type": "code",
   "execution_count": 78,
   "id": "1c3b2515",
   "metadata": {},
   "outputs": [
    {
     "name": "stdout",
     "output_type": "stream",
     "text": [
      "K\n",
      "a\n",
      "r\n",
      "t\n",
      "h\n",
      "i\n",
      "k\n"
     ]
    }
   ],
   "source": [
    "for x in \"Karthik\":\n",
    "  print(x)"
   ]
  },
  {
   "cell_type": "markdown",
   "id": "44281794",
   "metadata": {},
   "source": [
    "## break and continue statement\n",
    "\n",
    "In Python, break and continue statements can alter the flow of a normal loop.\n",
    "\n",
    "Loops iterate over a block of code until test expression is false, but sometimes we wish to terminate the current iteration or even the whole loop without cheking test expression.\n",
    "\n",
    "The break and continue statements are used in these cases.\n",
    "\n",
    "### break\n",
    "The break statement terminates the loop containing it. Control of the program flows to the statement immediately after the body of the loop.\n",
    "\n",
    "If break statement is inside a nested loop (loop inside another loop), break will terminate the innermost loop."
   ]
  },
  {
   "cell_type": "code",
   "execution_count": 79,
   "id": "1cee2e12",
   "metadata": {},
   "outputs": [
    {
     "name": "stdout",
     "output_type": "stream",
     "text": [
      "K\n",
      "a\n",
      "r\n"
     ]
    }
   ],
   "source": [
    "# If encounters T then stop loop\n",
    "\n",
    "for x in \"Karthik\":\n",
    "    if x== \"t\":\n",
    "        break\n",
    "    print(x)\n",
    "print('out of loop')"
   ]
  },
  {
   "cell_type": "code",
   "execution_count": 80,
   "id": "5dc8539d",
   "metadata": {},
   "outputs": [
    {
     "name": "stdout",
     "output_type": "stream",
     "text": [
      "K\n",
      "a\n",
      "r\n",
      "t\n",
      "h\n",
      "i\n",
      "k\n",
      "I am able to Complete iteration\n",
      "out of loop\n"
     ]
    }
   ],
   "source": [
    "for x in \"Karthik\":\n",
    "    if x== \"m\":\n",
    "        break\n",
    "    print(x)\n",
    "else:\n",
    "    print(\"I am able to Complete iteration\")\n",
    "print('out of loop')"
   ]
  },
  {
   "cell_type": "markdown",
   "id": "960007fd",
   "metadata": {},
   "source": [
    "### continue\n",
    "The continue statement is used to skip the rest of the code inside a loop for the current iteration only. Loop does not terminate but continues on with the next iteration."
   ]
  },
  {
   "cell_type": "code",
   "execution_count": 81,
   "id": "5a34a226",
   "metadata": {},
   "outputs": [
    {
     "name": "stdout",
     "output_type": "stream",
     "text": [
      "K\n",
      "a\n",
      "r\n",
      "h\n",
      "i\n",
      "k\n"
     ]
    }
   ],
   "source": [
    "for x in \"Karthik\":\n",
    "    if x == \"t\":\n",
    "        continue\n",
    "    print(x)"
   ]
  },
  {
   "cell_type": "markdown",
   "id": "a96fa102",
   "metadata": {},
   "source": [
    "# Input"
   ]
  },
  {
   "cell_type": "code",
   "execution_count": 1,
   "id": "7334cb79",
   "metadata": {},
   "outputs": [
    {
     "name": "stdout",
     "output_type": "stream",
     "text": [
      "3456666\n"
     ]
    },
    {
     "data": {
      "text/plain": [
       "'3456666'"
      ]
     },
     "execution_count": 1,
     "metadata": {},
     "output_type": "execute_result"
    }
   ],
   "source": [
    "input()\n",
    "# input will always take the values as a string inorder to convert a string to other data type we use type conversion"
   ]
  },
  {
   "cell_type": "code",
   "execution_count": 4,
   "id": "e734ea5d",
   "metadata": {},
   "outputs": [
    {
     "name": "stdout",
     "output_type": "stream",
     "text": [
      "45\n"
     ]
    },
    {
     "data": {
      "text/plain": [
       "[45, 45]"
      ]
     },
     "execution_count": 4,
     "metadata": {},
     "output_type": "execute_result"
    }
   ],
   "source": [
    "#Example\n",
    "\n",
    "a = int(input())\n",
    "l = [1,2,3,4,4,45,6,6,46,45,1,2,3]\n",
    "m = []\n",
    "for i in l:\n",
    "    if i==a:\n",
    "        m.append(i)\n",
    "m"
   ]
  },
  {
   "cell_type": "code",
   "execution_count": 6,
   "id": "02774031",
   "metadata": {},
   "outputs": [
    {
     "data": {
      "text/plain": [
       "[1, 2, 3, 'Karthik']"
      ]
     },
     "execution_count": 6,
     "metadata": {},
     "output_type": "execute_result"
    }
   ],
   "source": [
    "[1,2,3] + ['Karthik']"
   ]
  },
  {
   "cell_type": "code",
   "execution_count": null,
   "id": "4de452a8",
   "metadata": {},
   "outputs": [],
   "source": []
  }
 ],
 "metadata": {
  "kernelspec": {
   "display_name": "Python 3",
   "language": "python",
   "name": "python3"
  },
  "language_info": {
   "codemirror_mode": {
    "name": "ipython",
    "version": 3
   },
   "file_extension": ".py",
   "mimetype": "text/x-python",
   "name": "python",
   "nbconvert_exporter": "python",
   "pygments_lexer": "ipython3",
   "version": "3.8.8"
  }
 },
 "nbformat": 4,
 "nbformat_minor": 5
}
